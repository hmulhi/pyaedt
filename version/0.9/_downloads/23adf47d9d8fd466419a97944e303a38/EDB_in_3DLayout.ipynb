{
  "cells": [
    {
      "cell_type": "markdown",
      "metadata": {},
      "source": [
        "# HFSS 3D Layout: PCB and EDB in 3D layout\r\n\r\nThis example shows how you can use HFSS 3D Layout combined with EDB to\r\ninteract with a 3D layout.\r\n"
      ]
    },
    {
      "cell_type": "code",
      "execution_count": null,
      "metadata": {
        "collapsed": false
      },
      "outputs": [],
      "source": [
        "import os\nimport tempfile\nimport pyaedt\n\ntmpfold = tempfile.gettempdir()\ntemp_folder = os.path.join(tmpfold, pyaedt.generate_unique_name(\"Example\"))\nif not os.path.exists(temp_folder):\n    os.makedirs(temp_folder)\nprint(temp_folder)"
      ]
    },
    {
      "cell_type": "markdown",
      "metadata": {},
      "source": [
        "# Copy example into temporary folder\r\n\r\nCopy an example into the temporary folder.\r\n"
      ]
    },
    {
      "cell_type": "code",
      "execution_count": null,
      "metadata": {
        "collapsed": false
      },
      "outputs": [],
      "source": [
        "targetfile = pyaedt.downloads.download_aedb()\nprint(targetfile)\naedt_file = targetfile[:-12] + \"aedt\""
      ]
    },
    {
      "cell_type": "markdown",
      "metadata": {},
      "source": [
        "# Set non-graphical mode\r\n\r\nSet non-graphical mode. You can set `non_graphical` either to `True` or\r\n`False`.\r\n"
      ]
    },
    {
      "cell_type": "code",
      "execution_count": null,
      "metadata": {
        "collapsed": false
      },
      "outputs": [],
      "source": [
        "non_graphical = False\nNewThread = True"
      ]
    },
    {
      "cell_type": "markdown",
      "metadata": {},
      "source": [
        "# Set AEDT version\r\n\r\nSet AEDT version.\r\n"
      ]
    },
    {
      "cell_type": "code",
      "execution_count": null,
      "metadata": {
        "collapsed": false
      },
      "outputs": [],
      "source": [
        "aedt_version = \"2024.1\""
      ]
    },
    {
      "cell_type": "markdown",
      "metadata": {},
      "source": [
        "# Initialize AEDT and launch HFSS 3D Layout\r\n\r\nInitialize AEDT and launch HFSS 3D Layout. The `h3d` object contains the\r\n`pyaedt.Edb`{.interpreted-text role=\"class\"} class query methods.\r\n"
      ]
    },
    {
      "cell_type": "code",
      "execution_count": null,
      "metadata": {
        "collapsed": false
      },
      "outputs": [],
      "source": [
        "d = pyaedt.launch_desktop(aedt_version, non_graphical, NewThread)\nif os.path.exists(aedt_file):\n    os.remove(aedt_file)\nh3d = pyaedt.Hfss3dLayout(targetfile)\nh3d.save_project(os.path.join(temp_folder, \"edb_demo.aedt\"))"
      ]
    },
    {
      "cell_type": "markdown",
      "metadata": {},
      "source": [
        "# Print boundaries\r\n\r\nPrint boundaries from the `setups` object.\r\n"
      ]
    },
    {
      "cell_type": "code",
      "execution_count": null,
      "metadata": {
        "collapsed": false
      },
      "outputs": [],
      "source": [
        "h3d.boundaries"
      ]
    },
    {
      "cell_type": "markdown",
      "metadata": {},
      "source": [
        "# Hide all nets\r\n\r\nHide all nets.\r\n"
      ]
    },
    {
      "cell_type": "code",
      "execution_count": null,
      "metadata": {
        "collapsed": false
      },
      "outputs": [],
      "source": [
        "h3d.modeler.change_net_visibility(visible=False)"
      ]
    },
    {
      "cell_type": "markdown",
      "metadata": {},
      "source": [
        "# Show only two nets\r\n\r\nShow only two specified nets.\r\n"
      ]
    },
    {
      "cell_type": "code",
      "execution_count": null,
      "metadata": {
        "collapsed": false
      },
      "outputs": [],
      "source": [
        "h3d.modeler.change_net_visibility([\"A0_GPIO\", \"A0_MUX\"], visible=True)\nedb = h3d.modeler.edb\nedb.nets.plot([\"A0_GPIO\", \"A0_MUX\"])"
      ]
    },
    {
      "cell_type": "markdown",
      "metadata": {},
      "source": [
        "# Show all layers\r\n\r\nShow all layers.\r\n"
      ]
    },
    {
      "cell_type": "code",
      "execution_count": null,
      "metadata": {
        "collapsed": false
      },
      "outputs": [],
      "source": [
        "for layer in h3d.modeler.layers.all_signal_layers:\n    layer.is_visible = True"
      ]
    },
    {
      "cell_type": "markdown",
      "metadata": {},
      "source": [
        "# Change layer color\r\n\r\nChange the layer color.\r\n"
      ]
    },
    {
      "cell_type": "code",
      "execution_count": null,
      "metadata": {
        "collapsed": false
      },
      "outputs": [],
      "source": [
        "layer = h3d.modeler.layers.layers[h3d.modeler.layers.layer_id(\"TOP\")]\nlayer.set_layer_color(0, 255, 0)\nh3d.modeler.fit_all()"
      ]
    },
    {
      "cell_type": "markdown",
      "metadata": {},
      "source": [
        "# Disable component visibility\r\n\r\nDisable component visibility for `\"TOP\"` and `\"BOTTOM\"`. The\r\n`pyaedt.modules.LayerStackup.Layer.update_stackup_layer`{.interpreted-text\r\nrole=\"func\"} method applies modifications to the layout.\r\n"
      ]
    },
    {
      "cell_type": "code",
      "execution_count": null,
      "metadata": {
        "collapsed": false
      },
      "outputs": [],
      "source": [
        "top = h3d.modeler.layers.layers[h3d.modeler.layers.layer_id(\"TOP\")]\ntop.is_visible_component = False\n\nbot = h3d.modeler.layers.layers[h3d.modeler.layers.layer_id(\"BOTTOM\")]\nbot.is_visible_component = False"
      ]
    },
    {
      "cell_type": "markdown",
      "metadata": {},
      "source": [
        "# Fit all\r\n\r\nFit all so that you can visualize all.\r\n"
      ]
    },
    {
      "cell_type": "code",
      "execution_count": null,
      "metadata": {
        "collapsed": false
      },
      "outputs": [],
      "source": [
        "h3d.modeler.fit_all()"
      ]
    },
    {
      "cell_type": "markdown",
      "metadata": {},
      "source": [
        "# Close AEDT\r\n\r\nAfter the simulation completes, you can close AEDT or release it using\r\nthe `pyaedt.Desktop.release_desktop`{.interpreted-text role=\"func\"}\r\nmethod. All methods provide for saving the project before closing.\r\n"
      ]
    },
    {
      "cell_type": "code",
      "execution_count": null,
      "metadata": {
        "collapsed": false
      },
      "outputs": [],
      "source": [
        "h3d.close_project()\nd.release_desktop()"
      ]
    }
  ],
  "metadata": {
    "kernelspec": {
      "display_name": "Python 3",
      "language": "python",
      "name": "python3"
    },
    "language_info": {
      "codemirror_mode": {
        "name": "ipython",
        "version": 3
      },
      "file_extension": ".py",
      "mimetype": "text/x-python",
      "name": "python",
      "nbconvert_exporter": "python",
      "pygments_lexer": "ipython3",
      "version": "3.10.9"
    }
  },
  "nbformat": 4,
  "nbformat_minor": 0
}