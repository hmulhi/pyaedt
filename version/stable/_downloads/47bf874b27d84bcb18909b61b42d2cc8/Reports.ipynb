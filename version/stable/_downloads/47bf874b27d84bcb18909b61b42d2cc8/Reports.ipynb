{
  "cells": [
    {
      "cell_type": "markdown",
      "metadata": {},
      "source": [
        "# Circuit: automatic report creation\r\n\r\nThis example shows how you can use PyAEDT to create reports\r\nautomatically using a JSON file.\r\n"
      ]
    },
    {
      "cell_type": "markdown",
      "metadata": {},
      "source": [
        "# Perform required imports\r\n\r\nPerform required imports and set the local path to the path for PyAEDT.\r\n"
      ]
    },
    {
      "cell_type": "code",
      "execution_count": null,
      "metadata": {
        "collapsed": false
      },
      "outputs": [],
      "source": [
        "import os\nfrom IPython.display import Image\nimport pyaedt\n\n# Set local path to path for PyAEDT\ntemp_folder = pyaedt.generate_unique_folder_name()\nproject_path = pyaedt.downloads.download_custom_reports(destination=temp_folder)"
      ]
    },
    {
      "cell_type": "markdown",
      "metadata": {},
      "source": [
        "# Set AEDT version\r\n\r\nSet AEDT version.\r\n"
      ]
    },
    {
      "cell_type": "code",
      "execution_count": null,
      "metadata": {
        "collapsed": false
      },
      "outputs": [],
      "source": [
        "aedt_version = \"2024.1\""
      ]
    },
    {
      "cell_type": "markdown",
      "metadata": {},
      "source": [
        "# Set non-graphical mode\r\n\r\nSet non-graphical mode. You can set `non_graphical` either to `True` or\r\n`False`. The Boolean parameter `new_thread` defines whether to create a\r\nnew instance of AEDT or try to connect to an existing instance of it.\r\n"
      ]
    },
    {
      "cell_type": "code",
      "execution_count": null,
      "metadata": {
        "collapsed": false
      },
      "outputs": [],
      "source": [
        "non_graphical = True\nNewThread = True"
      ]
    },
    {
      "cell_type": "markdown",
      "metadata": {},
      "source": [
        "# Launch AEDT with Circuit\r\n\r\nLaunch AEDT with Circuit. The `pyaedt.Desktop`{.interpreted-text\r\nrole=\"class\"} class initializes AEDT and starts the specified version in\r\nthe specified mode.\r\n"
      ]
    },
    {
      "cell_type": "code",
      "execution_count": null,
      "metadata": {
        "collapsed": false
      },
      "outputs": [],
      "source": [
        "cir = pyaedt.Circuit(projectname=os.path.join(project_path, 'CISPR25_Radiated_Emissions_Example23R1.aedtz'),\n                     non_graphical=non_graphical,\n                     specified_version=aedt_version,\n                     new_desktop_session=True\n                     )\ncir.analyze()"
      ]
    },
    {
      "cell_type": "markdown",
      "metadata": {},
      "source": [
        "# Create spectrum report\r\n\r\nCreate a spectrum report. You can use a JSON file to create a simple\r\nsetup or a fully customized one. The following code creates a simple\r\nsetup and changes the JSON file to customize it. In a spectrum report,\r\nyou can add limitilines and notes and edit axes, the grid, and the\r\nlegend. You can create custom reports in non-graphical mode in AEDT 2023\r\nR2 and later.\r\n"
      ]
    },
    {
      "cell_type": "code",
      "execution_count": null,
      "metadata": {
        "collapsed": false
      },
      "outputs": [],
      "source": [
        "report1 = cir.post.create_report_from_configuration(os.path.join(project_path, 'Spectrum_CISPR_Basic.json'))\nout = cir.post.export_report_to_jpg(cir.working_directory, report1.plot_name)\nImage(out)"
      ]
    },
    {
      "cell_type": "markdown",
      "metadata": {},
      "source": [
        "# Create spectrum report\r\n\r\nEvery aspect of the report can be customized.\r\n"
      ]
    },
    {
      "cell_type": "code",
      "execution_count": null,
      "metadata": {
        "collapsed": false
      },
      "outputs": [],
      "source": [
        "report1_full = cir.post.create_report_from_configuration(os.path.join(project_path, 'Spectrum_CISPR_Custom.json'))\nout = cir.post.export_report_to_jpg(cir.working_directory, report1_full.plot_name)\nImage(out)"
      ]
    },
    {
      "cell_type": "markdown",
      "metadata": {},
      "source": [
        "# Create transient report\r\n\r\nCreate a transient report. You can read and modify the JSON file before\r\nrunning the script. The following code modifies the traces before\r\ngenerating the report. You can create custom reports in non-graphical\r\nmode in AEDT 2023 R2 and later.\r\n"
      ]
    },
    {
      "cell_type": "code",
      "execution_count": null,
      "metadata": {
        "collapsed": false
      },
      "outputs": [],
      "source": [
        "props = pyaedt.general_methods.read_json(os.path.join(project_path, 'Transient_CISPR_Custom.json'))\n\nreport2 = cir.post.create_report_from_configuration(report_settings=props, solution_name=\"NexximTransient\")\nout = cir.post.export_report_to_jpg(cir.working_directory, report2.plot_name)\nImage(out)"
      ]
    },
    {
      "cell_type": "markdown",
      "metadata": {},
      "source": [
        "# Create transient report\r\n\r\nProperty dictionary can be customized in any aspect and new report can\r\nbe created easily. In this example the curve name is customized.\r\n"
      ]
    },
    {
      "cell_type": "code",
      "execution_count": null,
      "metadata": {
        "collapsed": false
      },
      "outputs": [],
      "source": [
        "props[\"expressions\"] = {\"V(Battery)\": {}, \"V(U1_VDD)\": {}}\nprops[\"plot_name\"] = \"Battery Voltage\"\nreport3 = cir.post.create_report_from_configuration(report_settings=props, solution_name=\"NexximTransient\")\nout = cir.post.export_report_to_jpg(cir.working_directory, report3.plot_name)\nImage(out)"
      ]
    },
    {
      "cell_type": "markdown",
      "metadata": {},
      "source": [
        "# Create eye diagram\r\n\r\nCreate an eye diagram. If the JSON file contains an eye mask, you can\r\ncreate an eye diagram and fully customize it.\r\n"
      ]
    },
    {
      "cell_type": "code",
      "execution_count": null,
      "metadata": {
        "collapsed": false
      },
      "outputs": [],
      "source": [
        "report4 = cir.post.create_report_from_configuration(os.path.join(project_path, 'EyeDiagram_CISPR_Basic.json'))\nout = cir.post.export_report_to_jpg(cir.working_directory, report4.plot_name)\nImage(out)"
      ]
    },
    {
      "cell_type": "markdown",
      "metadata": {},
      "source": [
        "# Create eye diagram\r\n\r\nYou can create custom reports in non-graphical mode in AEDT 2023 R2 and\r\nlater.\r\n"
      ]
    },
    {
      "cell_type": "code",
      "execution_count": null,
      "metadata": {
        "collapsed": false
      },
      "outputs": [],
      "source": [
        "report4_full = cir.post.create_report_from_configuration(os.path.join(project_path, 'EyeDiagram_CISPR_Custom.json'))\n\nout = cir.post.export_report_to_jpg(cir.working_directory, report4_full.plot_name)\nImage(out)"
      ]
    },
    {
      "cell_type": "markdown",
      "metadata": {},
      "source": [
        "This is how the spectrum looks like .. image::\r\nResources/spectrum_plot.png\r\n"
      ]
    },
    {
      "cell_type": "markdown",
      "metadata": {},
      "source": [
        "# Save project and close AEDT\r\n\r\nSave the project and close AEDT.\r\n"
      ]
    },
    {
      "cell_type": "code",
      "execution_count": null,
      "metadata": {
        "collapsed": false
      },
      "outputs": [],
      "source": [
        "cir.save_project()\nprint(\"Project Saved in {}\".format(cir.project_path))\ncir.release_desktop()"
      ]
    }
  ],
  "metadata": {
    "kernelspec": {
      "display_name": "Python 3",
      "language": "python",
      "name": "python3"
    },
    "language_info": {
      "codemirror_mode": {
        "name": "ipython",
        "version": 3
      },
      "file_extension": ".py",
      "mimetype": "text/x-python",
      "name": "python",
      "nbconvert_exporter": "python",
      "pygments_lexer": "ipython3",
      "version": "3.10.9"
    }
  },
  "nbformat": 4,
  "nbformat_minor": 0
}